{
 "cells": [
  {
   "cell_type": "markdown",
   "metadata": {},
   "source": [
    "# IMUs on SMPL"
   ]
  },
  {
   "cell_type": "code",
   "execution_count": null,
   "metadata": {},
   "outputs": [],
   "source": [
    "# Preparing the environment\n",
    "%load_ext autoreload\n",
    "%autoreload 2\n",
    "%matplotlib notebook\n",
    "%matplotlib inline\n",
    "\n",
    "import sys, os\n",
    "import torch\n",
    "import numpy as np\n",
    "import trimesh\n",
    "from notebook_tools import show_image\n",
    "\n",
    "from human_body_prior.tools.omni_tools import colors\n",
    "from human_body_prior.mesh import MeshViewer\n",
    "from human_body_prior.mesh.sphere import points_to_spheres\n",
    "from human_body_prior.body_model.body_model import BodyModel\n",
    "from human_body_prior.tools.omni_tools import copy2cpu as c2c"
   ]
  },
  {
   "cell_type": "code",
   "execution_count": null,
   "metadata": {},
   "outputs": [],
   "source": [
    "comp_device = torch.device(\"cuda\" if torch.cuda.is_available() else \"cpu\")\n",
    "\n",
    "bm_path = '../body_models/smplh/male/model.npz'\n",
    "dmpl_path = '../body_models/dmpls/male/model.npz'\n",
    "\n",
    "num_betas = 10 # number of body parameters\n",
    "num_dmpls = 8 # number of DMPL parameters\n",
    "\n",
    "bm = BodyModel(bm_path=bm_path, num_betas=num_betas, num_dmpls=num_dmpls, path_dmpl=dmpl_path).to(comp_device)\n",
    "faces = c2c(bm.f)\n",
    "\n",
    "npz_bdata_path = '/home/lisca/data/amass/CMU/01/01_01_poses.npz' # the path to body data\n",
    "\n",
    "bdata = np.load(npz_bdata_path)\n",
    "# print('Data keys available:%s'%list(bdata.keys()))\n",
    "# print('Vector poses has %d elements for each of %d frames.'%(bdata['poses'].shape[1], bdata['poses'].shape[0]))\n",
    "# print('Vector dmpls has %d elements for each of %d frames.'%(bdata['dmpls'].shape[1], bdata['dmpls'].shape[0]))\n",
    "# print('Vector trams has %d elements for each of %d frames.'%(bdata['trans'].shape[1], bdata['trans'].shape[0]))\n",
    "# print('Vector betas has %d elements constant for the whole sequence.'%bdata['betas'].shape[0])\n",
    "# print('The subject of the mocap sequence is %s.'%bdata['gender'])\n",
    "\n",
    "fId = 100 # frame id of the mocap sequence\n",
    "\n",
    "root_orient = torch.Tensor(bdata['poses'][fId:fId+1, :3]).to(comp_device) # controls the global root orientation\n",
    "pose_body = torch.Tensor(bdata['poses'][fId:fId+1, 3:66]).to(comp_device) # controls the body\n",
    "pose_hand = torch.Tensor(bdata['poses'][fId:fId+1, 66:]).to(comp_device) # controls the finger articulation\n",
    "betas = torch.Tensor(bdata['betas'][:10][np.newaxis]).to(comp_device) # controls the body shape\n",
    "dmpls = torch.Tensor(bdata['dmpls'][fId:fId+1]).to(comp_device) # controls soft tissue dynamics\n",
    "\n",
    "imw, imh=1600, 1600\n",
    "mv = MeshViewer(width=imw, height=imh, use_offscreen=True)\n",
    "\n",
    "body = bm(pose_body=pose_body, betas=betas)\n",
    "\n",
    "body_mesh = trimesh.Trimesh(vertices=c2c(body.v[0]), faces=faces, vertex_colors=np.tile(colors['grey'], (6890, 1)))\n",
    "\n",
    "jnts = c2c(body.Jtr[0])\n",
    "jnts_msh = points_to_spheres(jnts, vc = colors['red'], radius=0.005)\n",
    "\n",
    "indcs = torch.tensor([3021, 5431, 1962, 412, 4583, 1096]).to(comp_device)\n",
    "vrtcs = c2c(body.v[0][indcs])\n",
    "vrtcs_msh = points_to_spheres(vrtcs, vc = colors['green'], radius=0.01)\n",
    "\n",
    "mv.set_static_meshes([body_mesh] + jnts_msh + vrtcs_msh)\n",
    "body_image = mv.render(render_wireframe=True)\n",
    "show_image(body_image)"
   ]
  }
 ],
 "metadata": {
  "kernelspec": {
   "display_name": "Python 3",
   "language": "python",
   "name": "python3"
  },
  "language_info": {
   "codemirror_mode": {
    "name": "ipython",
    "version": 3
   },
   "file_extension": ".py",
   "mimetype": "text/x-python",
   "name": "python",
   "nbconvert_exporter": "python",
   "pygments_lexer": "ipython3",
   "version": "3.7.5"
  }
 },
 "nbformat": 4,
 "nbformat_minor": 4
}
